{
 "cells": [
  {
   "cell_type": "code",
   "execution_count": 2,
   "id": "ca157931",
   "metadata": {},
   "outputs": [
    {
     "name": "stdout",
     "output_type": "stream",
     "text": [
      "Python:3.9.7 (default, Sep 16 2021, 16:59:28) [MSC v.1916 64 bit (AMD64)]\n"
     ]
    }
   ],
   "source": [
    "import sys\n",
    "print('Python:{}'.format(sys.version))"
   ]
  },
  {
   "cell_type": "code",
   "execution_count": 3,
   "id": "0ed19785",
   "metadata": {},
   "outputs": [
    {
     "name": "stdout",
     "output_type": "stream",
     "text": [
      "Python: 3.9.7 (default, Sep 16 2021, 16:59:28) [MSC v.1916 64 bit (AMD64)]\n",
      "scipy: 1.7.1\n",
      "numpy: 1.21.2\n",
      "matplotlib: 3.5.0\n",
      "pandas: 1.3.4\n",
      "sklearn: 1.0.1\n"
     ]
    }
   ],
   "source": [
    "# Python version\n",
    "import sys\n",
    "print('Python: {}'.format(sys.version))\n",
    "# scipy\n",
    "import scipy\n",
    "print('scipy: {}'.format(scipy.__version__))\n",
    "# numpy\n",
    "import numpy\n",
    "print('numpy: {}'.format(numpy.__version__))\n",
    "# matplotlib\n",
    "import matplotlib\n",
    "print('matplotlib: {}'.format(matplotlib.__version__))\n",
    "# pandas\n",
    "import pandas\n",
    "print('pandas: {}'.format(pandas.__version__))\n",
    "# scikit-learn\n",
    "import sklearn\n",
    "print('sklearn: {}'.format(sklearn.__version__))"
   ]
  },
  {
   "cell_type": "code",
   "execution_count": 4,
   "id": "0ea695f2",
   "metadata": {},
   "outputs": [],
   "source": [
    "\n",
    "# Load libraries\n",
    "from pandas import read_csv\n",
    "from pandas.plotting import scatter_matrix\n",
    "from matplotlib import pyplot\n",
    "from sklearn.model_selection import train_test_split\n",
    "from sklearn.model_selection import cross_val_score\n",
    "from sklearn.model_selection import StratifiedKFold\n",
    "from sklearn.metrics import classification_report\n",
    "from sklearn.metrics import confusion_matrix\n",
    "from sklearn.metrics import accuracy_score\n",
    "from sklearn.linear_model import LogisticRegression\n",
    "from sklearn.tree import DecisionTreeClassifier\n",
    "from sklearn.neighbors import KNeighborsClassifier\n",
    "from sklearn.discriminant_analysis import LinearDiscriminantAnalysis\n",
    "from sklearn.naive_bayes import GaussianNB\n",
    "from sklearn.svm import SVC"
   ]
  },
  {
   "cell_type": "code",
   "execution_count": 11,
   "id": "7abad4e8",
   "metadata": {},
   "outputs": [],
   "source": [
    "# Load dataset\n",
    "import csv \n",
    "names = ['animal_name','hair','feathers','eggs','milk','airborne','aquatic','predator','toothed','backbone','breathes','venomous','fins','legs','tail','domestic','catsize','class_type']\n",
    "dataset = pandas.read_csv(r\"C:\\\\Users\\\\Utilizador\\\\Downloads\\\\zoo.csv\", names=names)"
   ]
  },
  {
   "cell_type": "code",
   "execution_count": 12,
   "id": "623c6885",
   "metadata": {},
   "outputs": [
    {
     "name": "stdout",
     "output_type": "stream",
     "text": [
      "(102, 18)\n"
     ]
    }
   ],
   "source": [
    "# shape\n",
    "print(dataset.shape)"
   ]
  },
  {
   "cell_type": "code",
   "execution_count": 13,
   "id": "703e68bf",
   "metadata": {},
   "outputs": [
    {
     "name": "stdout",
     "output_type": "stream",
     "text": [
      "    animal_name  hair  feathers  eggs  milk  airborne  aquatic  predator  \\\n",
      "0   animal_name  hair  feathers  eggs  milk  airborne  aquatic  predator   \n",
      "1      aardvark     1         0     0     1         0        0         1   \n",
      "2      antelope     1         0     0     1         0        0         0   \n",
      "3          bass     0         0     1     0         0        1         1   \n",
      "4          bear     1         0     0     1         0        0         1   \n",
      "5          boar     1         0     0     1         0        0         1   \n",
      "6       buffalo     1         0     0     1         0        0         0   \n",
      "7          calf     1         0     0     1         0        0         0   \n",
      "8          carp     0         0     1     0         0        1         0   \n",
      "9       catfish     0         0     1     0         0        1         1   \n",
      "10         cavy     1         0     0     1         0        0         0   \n",
      "11      cheetah     1         0     0     1         0        0         1   \n",
      "12      chicken     0         1     1     0         1        0         0   \n",
      "13         chub     0         0     1     0         0        1         1   \n",
      "14         clam     0         0     1     0         0        0         1   \n",
      "15         crab     0         0     1     0         0        1         1   \n",
      "16     crayfish     0         0     1     0         0        1         1   \n",
      "17         crow     0         1     1     0         1        0         1   \n",
      "18         deer     1         0     0     1         0        0         0   \n",
      "19      dogfish     0         0     1     0         0        1         1   \n",
      "\n",
      "    toothed  backbone  breathes  venomous  fins  legs  tail  domestic  \\\n",
      "0   toothed  backbone  breathes  venomous  fins  legs  tail  domestic   \n",
      "1         1         1         1         0     0     4     0         0   \n",
      "2         1         1         1         0     0     4     1         0   \n",
      "3         1         1         0         0     1     0     1         0   \n",
      "4         1         1         1         0     0     4     0         0   \n",
      "5         1         1         1         0     0     4     1         0   \n",
      "6         1         1         1         0     0     4     1         0   \n",
      "7         1         1         1         0     0     4     1         1   \n",
      "8         1         1         0         0     1     0     1         1   \n",
      "9         1         1         0         0     1     0     1         0   \n",
      "10        1         1         1         0     0     4     0         1   \n",
      "11        1         1         1         0     0     4     1         0   \n",
      "12        0         1         1         0     0     2     1         1   \n",
      "13        1         1         0         0     1     0     1         0   \n",
      "14        0         0         0         0     0     0     0         0   \n",
      "15        0         0         0         0     0     4     0         0   \n",
      "16        0         0         0         0     0     6     0         0   \n",
      "17        0         1         1         0     0     2     1         0   \n",
      "18        1         1         1         0     0     4     1         0   \n",
      "19        1         1         0         0     1     0     1         0   \n",
      "\n",
      "    catsize  class_type  \n",
      "0   catsize  class_type  \n",
      "1         1           1  \n",
      "2         1           1  \n",
      "3         0           4  \n",
      "4         1           1  \n",
      "5         1           1  \n",
      "6         1           1  \n",
      "7         1           1  \n",
      "8         0           4  \n",
      "9         0           4  \n",
      "10        0           1  \n",
      "11        1           1  \n",
      "12        0           2  \n",
      "13        0           4  \n",
      "14        0           7  \n",
      "15        0           7  \n",
      "16        0           7  \n",
      "17        0           2  \n",
      "18        1           1  \n",
      "19        1           4  \n"
     ]
    }
   ],
   "source": [
    "# head\n",
    "print(dataset.head(20))"
   ]
  },
  {
   "cell_type": "code",
   "execution_count": 14,
   "id": "9baa3a10",
   "metadata": {},
   "outputs": [
    {
     "name": "stdout",
     "output_type": "stream",
     "text": [
      "       animal_name hair feathers eggs milk airborne aquatic predator toothed  \\\n",
      "count          102  102      102  102  102      102     102      102     102   \n",
      "unique         101    3        3    3    3        3       3        3       3   \n",
      "top           frog    0        0    1    0        0       0        1       1   \n",
      "freq             2   58       81   59   60       77      65       56      61   \n",
      "\n",
      "       backbone breathes venomous fins legs tail domestic catsize class_type  \n",
      "count       102      102      102  102  102  102      102     102        102  \n",
      "unique        3        3        3    3    7    3        3       3          8  \n",
      "top           1        1        0    0    4    1        0       0          1  \n",
      "freq         83       80       93   84   38   75       88      57         41  \n"
     ]
    }
   ],
   "source": [
    "...\n",
    "# descriptions\n",
    "print(dataset.describe())"
   ]
  },
  {
   "cell_type": "code",
   "execution_count": 16,
   "id": "4f0720ec",
   "metadata": {},
   "outputs": [
    {
     "name": "stdout",
     "output_type": "stream",
     "text": [
      "venomous\n",
      "0           93\n",
      "1            8\n",
      "venomous     1\n",
      "dtype: int64\n"
     ]
    }
   ],
   "source": [
    "# class distribution\n",
    "print(dataset.groupby('venomous').size())"
   ]
  },
  {
   "cell_type": "code",
   "execution_count": null,
   "id": "c478968c",
   "metadata": {},
   "outputs": [],
   "source": []
  },
  {
   "cell_type": "code",
   "execution_count": null,
   "id": "7c367749",
   "metadata": {},
   "outputs": [],
   "source": []
  }
 ],
 "metadata": {
  "kernelspec": {
   "display_name": "Python 3 (ipykernel)",
   "language": "python",
   "name": "python3"
  },
  "language_info": {
   "codemirror_mode": {
    "name": "ipython",
    "version": 3
   },
   "file_extension": ".py",
   "mimetype": "text/x-python",
   "name": "python",
   "nbconvert_exporter": "python",
   "pygments_lexer": "ipython3",
   "version": "3.9.7"
  }
 },
 "nbformat": 4,
 "nbformat_minor": 5
}
